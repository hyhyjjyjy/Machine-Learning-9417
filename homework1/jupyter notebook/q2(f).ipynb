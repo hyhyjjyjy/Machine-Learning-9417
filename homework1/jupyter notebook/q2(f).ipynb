{
 "cells": [
  {
   "cell_type": "code",
   "execution_count": 7,
   "id": "7493fcc5",
   "metadata": {},
   "outputs": [
    {
     "name": "stdout",
     "output_type": "stream",
     "text": [
      "1969.4073435902033\n",
      "the mimimal MSE is 1586.6715081806428 with lambd =5.4\n"
     ]
    },
    {
     "data": {
      "image/png": "[encoded data removed]",
      "text/plain": [
       "<Figure size 432x288 with 1 Axes>"
      ]
     },
     "metadata": {
      "needs_background": "light"
     },
     "output_type": "display_data"
    }
   ],
   "source": [
    "%matplotlib inline\n",
    "import matplotlib.pyplot as plt\n",
    "import seaborn as sns\n",
    "import pandas as pd\n",
    "import numpy as np\n",
    "from sklearn import datasets,linear_model\n",
    "from sklearn.metrics import mean_squared_error, r2_score\n",
    "from sklearn.linear_model import Lasso\n",
    "import math\n",
    "\n",
    "# load the diabetes dataset\n",
    "df=pd.read_csv('data.csv')\n",
    "target_name=\"Y\"\n",
    "target=df[target_name]\n",
    "\n",
    "\n",
    "\n",
    "stand = np.std(df)\n",
    "newdf = (df - df.mean())/np.std(df)\n",
    "\n",
    "bx = plt.gca()\n",
    "plt.title('Result Analysis')\n",
    "plt.xlabel('lambda')\n",
    "plt.ylabel('ASE')\n",
    "\n",
    "X=newdf[['X1', 'X2', 'X3', 'X4', 'X5', 'X6', 'X7', 'X8']]\n",
    "X=np.array(X)\n",
    "Y=df['Y']\n",
    "Y=np.array(Y)\n",
    "MSEs = []\n",
    "lmd=np.arange(0.1,20.1, 0.1)\n",
    "\n",
    "for lams in lmd:\n",
    "    sum = 0\n",
    "    Y_pre = []\n",
    "    for i in range(38):\n",
    "        X_test = X[i].reshape(1,-1)\n",
    "        X1 = np.delete(X, i,axis=0)\n",
    "        Y1 = np.delete(Y, i,axis=0)\n",
    "        lasso = Lasso()\n",
    "        lasso.set_params(alpha=lams)\n",
    "        lasso.fit(X1, Y1)\n",
    "        y_pre = lasso.predict(X_test)\n",
    "        Y_pre.append(y_pre[0])\n",
    "        sum += math.pow(y_pre[0] - Y[i], 2)\n",
    "    MSE = sum / 38\n",
    "    MSEs.append(MSE)\n",
    "print(ASE)\n",
    "    \n",
    "print(f\"the mimimal MSE is {min(MSEs)} with lambd ={MSEs.index(min(MSEs)) * 0.1 }\")\n",
    "bx.plot(lmd, MSEs, color='red')\n",
    "plt.show()\n"
   ]
  },
  {
   "cell_type": "code",
   "execution_count": null,
   "id": "eb458fdb",
   "metadata": {},
   "outputs": [],
   "source": []
  }
 ],
 "metadata": {
  "kernelspec": {
   "display_name": "Python 3",
   "language": "python",
   "name": "python3"
  },
  "language_info": {
   "codemirror_mode": {
    "name": "ipython",
    "version": 3
   },
   "file_extension": ".py",
   "mimetype": "text/x-python",
   "name": "python",
   "nbconvert_exporter": "python",
   "pygments_lexer": "ipython3",
   "version": "3.7.9"
  }
 },
 "nbformat": 4,
 "nbformat_minor": 5
}
