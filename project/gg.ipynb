{
 "cells": [
  {
   "cell_type": "code",
   "execution_count": 12,
   "id": "831abbfb",
   "metadata": {},
   "outputs": [],
   "source": [
    "import pandas as pd\n",
    "import numpy as np\n",
    "from sklearn import tree\n",
    "import matplotlib.pyplot as plt\n",
    "import seaborn as sns\n",
    "%matplotlib inline\n",
    "\n",
    "from sklearn.model_selection import train_test_split\n",
    "# load dataset\n",
    "data = pd.read_csv('train.csv')\n",
    "data_test = pd.read_csv('test.csv')\n",
    "test_or_data = data_test\n",
    "data.head()\n",
    "# numerics = ['int16', 'int32', 'int64', 'float16', 'float32', 'float64']\n",
    "# numerical_vars = list(data.select_dtypes(include=numerics).columns)\n",
    "# data = data[numerical_vars]\n",
    "data.shape\n",
    "\n",
    "# separate train and test sets\n",
    "X_train, X_test, y_train, y_test = train_test_split(\n",
    "    data.drop(labels=['TARGET'], axis=1),\n",
    "    data['TARGET'],\n",
    "    test_size=0.3,\n",
    "    stratify = data['TARGET'],\n",
    "    random_state = 888)\n",
    "X_train.shape, y_train.shape\n",
    "\n",
    "# Constant Removal (X_train)\n",
    "from sklearn.feature_selection import VarianceThreshold\n",
    "constant_filter = VarianceThreshold(threshold=0)\n",
    "constant_filter.fit(X_train)\n",
    "\n",
    "constant_list = [not temp_feat for temp_feat in constant_filter.get_support()]\n",
    "X_train_filter = constant_filter.transform(X_train)\n",
    "X_test_filter = constant_filter.transform(X_test)\n",
    "# X_train_filter.shape,X_train.shape\n",
    "data_test = constant_filter.transform(data_test)"
   ]
  },
  {
   "cell_type": "code",
   "execution_count": 13,
   "id": "d870a7f0",
   "metadata": {},
   "outputs": [
    {
     "data": {
      "text/plain": [
       "((75818, 330), (53214, 330), (22806, 330))"
      ]
     },
     "execution_count": 13,
     "metadata": {},
     "output_type": "execute_result"
    }
   ],
   "source": [
    "data_test.shape, X_train_filter.shape, X_test_filter.shape"
   ]
  },
  {
   "cell_type": "code",
   "execution_count": 14,
   "id": "06f3332c",
   "metadata": {},
   "outputs": [
    {
     "data": {
      "text/plain": [
       "(75818, 269)"
      ]
     },
     "execution_count": 14,
     "metadata": {},
     "output_type": "execute_result"
    }
   ],
   "source": [
    "\n",
    "# Quasi Constant Removal (X_train)\n",
    "quasi_constant_filter = VarianceThreshold(threshold=0.01)\n",
    "quasi_constant_filter.fit(X_train)\n",
    "\n",
    "constant_list = [not temp_feat for temp_feat in quasi_constant_filter.get_support()]\n",
    "\n",
    "X_train_quasi_filter  = quasi_constant_filter.transform(X_train)\n",
    "X_test_quasi_filter  = quasi_constant_filter.transform(X_test)\n",
    "data_test = quasi_constant_filter.transform(test_or_data)\n",
    "\n",
    "X_train_quasi_filter.shape\n",
    "data_test.shape\n"
   ]
  },
  {
   "cell_type": "code",
   "execution_count": 15,
   "id": "b55c448f",
   "metadata": {},
   "outputs": [
    {
     "data": {
      "text/plain": [
       "((22806, 251), (75818, 251))"
      ]
     },
     "execution_count": 15,
     "metadata": {},
     "output_type": "execute_result"
    }
   ],
   "source": [
    "\n",
    "# Duplicate Feature Removal (X_train)\n",
    "X_train_T = X_train_quasi_filter.T\n",
    "type(X_train_T)\n",
    "X_train_T = pd.DataFrame(X_train_T)\n",
    "X_train_T.shape\n",
    "X_train_T.duplicated().sum()\n",
    "duplicated_features = X_train_T.duplicated()\n",
    "features_to_keep = [not index for index in duplicated_features]\n",
    "X_train_unique = X_train_T[features_to_keep].T\n",
    "X_train_unique.shape, X_train.shape\n",
    "\n",
    "\n",
    "for i in range(len(duplicated_features) - 1, 0, -1):\n",
    "    if duplicated_features[i] == True:\n",
    "        data_test = np.delete(data_test, i, axis=1)\n",
    "        X_test_quasi_filter = np.delete(X_test_quasi_filter, i, axis=1)\n",
    "\n",
    "X_test_quasi_filter.shape, data_test.shape"
   ]
  },
  {
   "cell_type": "code",
   "execution_count": 16,
   "id": "cbd4c8be",
   "metadata": {},
   "outputs": [
    {
     "name": "stderr",
     "output_type": "stream",
     "text": [
      "D:\\Program2\\Anaconda3\\lib\\site-packages\\xgboost\\sklearn.py:1146: UserWarning: The use of label encoder in XGBClassifier is deprecated and will be removed in a future release. To remove this warning, do the following: 1) Pass option use_label_encoder=False when constructing XGBClassifier object; and 2) Encode your labels (y) as integers starting with 0, i.e. 0, 1, 2, ..., [num_class - 1].\n",
      "  warnings.warn(label_encoder_deprecation_msg, UserWarning)\n"
     ]
    },
    {
     "name": "stdout",
     "output_type": "stream",
     "text": [
      "[20:21:06] WARNING: C:/Users/Administrator/workspace/xgboost-win64_release_1.4.0/src/learner.cc:1095: Starting in XGBoost 1.3.0, the default evaluation metric used with the objective 'binary:logistic' was changed from 'error' to 'logloss'. Explicitly set eval_metric if you'd like to restore the old behavior.\n"
     ]
    }
   ],
   "source": [
    "\n",
    "\n",
    "\n",
    "\n",
    "X_test = X_test_quasi_filter\n",
    "X_train = X_train_unique\n",
    "\n",
    "\n",
    "# from sklearn.metrics import precision_score, recall_score, roc_auc_score, roc_curve\n",
    "# from sklearn.ensemble import RandomForestClassifier\n",
    "# best_model = RandomForestClassifier(max_depth=23, min_samples_split=150, n_estimators=100)\n",
    "# best_model.fit(X_train,y_train)\n",
    "# print(f'Test ROC AUC Score: {roc_auc_score(y_test, best_model.predict_proba(X_test)[:,1])}')\n",
    "# print(f'Train ROC AUC  Score: {roc_auc_score(y_train, best_model.predict_proba(X_train)[:,1])}')\n",
    "\n",
    "from sklearn.metrics import precision_score, recall_score, roc_auc_score, roc_curve\n",
    "import xgboost as xgb\n",
    "best_model = xgb.XGBClassifier(learning_rate=0.11,max_depth=4,min_child_weight=4)\n",
    "best_model.fit(X_train,y_train)\n",
    "# print(f'Test ROC AUC Score: {roc_auc_score(y_test, best_model.predict_proba(X_test)[:,1])}')\n",
    "# print(f'Train ROC AUC Score: {roc_auc_score(y_train, best_model.predict_proba(X_train)[:,1])}')\n",
    "y_predict = best_model.predict_proba(data_test)\n",
    "np.savetxt(\"result3.csv\", y_predict[:,1], delimiter=',')"
   ]
  },
  {
   "cell_type": "code",
   "execution_count": null,
   "id": "9b6dfb88",
   "metadata": {},
   "outputs": [],
   "source": []
  }
 ],
 "metadata": {
  "kernelspec": {
   "display_name": "Python 3",
   "language": "python",
   "name": "python3"
  },
  "language_info": {
   "codemirror_mode": {
    "name": "ipython",
    "version": 3
   },
   "file_extension": ".py",
   "mimetype": "text/x-python",
   "name": "python",
   "nbconvert_exporter": "python",
   "pygments_lexer": "ipython3",
   "version": "3.8.8"
  }
 },
 "nbformat": 4,
 "nbformat_minor": 5
}
