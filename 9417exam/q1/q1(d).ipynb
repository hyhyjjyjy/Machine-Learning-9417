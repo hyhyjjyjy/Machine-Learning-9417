{
 "cells": [
  {
   "cell_type": "code",
   "execution_count": 51,
   "id": "d4e71bf3",
   "metadata": {},
   "outputs": [],
   "source": [
    "import numpy as np\n",
    "a_result = [0, 0, 0, 0, 0, 1, 0, 0, 0, 0, 0, 0, 0, 0, 1, 1, 1, 0, 0, 0, 1, 0, 1, 1, 0, 0, 1, 0, 0, 0]\n",
    "b_result = [0, 1, 0, 0, 0, 1, 0, 0, 0, 0, 0, 0, 0, 0, 1, 1, 0, 0, 0, 0, 1, 1, 1, 1, 0, 0, 1, 0, 0, 0]\n",
    "c_result = [0, 0, 0, 0, 0, 0, 0, 0, 0, 0, 0, 0, 0, 0, 0, 1, 0, 0, 0, 0, 1, 0, 0, 0, 0, 0, 1, 0, 0, 0]\n",
    "\n",
    "def print_false(betas, result):\n",
    "    False_Positives = 0\n",
    "    False_Negatives = 0\n",
    "    for i in range(len(betas)):\n",
    "        if (betas[i] == 0 and result[i] != 0):\n",
    "            False_Negatives += 1\n",
    "        if (betas[i] != 0 and result[i] == 0):\n",
    "            False_Positives += 1\n",
    "    print(False_Positives,\" \", False_Positives)"
   ]
  },
  {
   "cell_type": "code",
   "execution_count": 64,
   "id": "02d30b36",
   "metadata": {},
   "outputs": [
    {
     "name": "stdout",
     "output_type": "stream",
     "text": [
      "2   2\n",
      "5   5\n",
      "3   3\n"
     ]
    }
   ],
   "source": [
    "# NP \n",
    "np.random.seed(125)\n",
    "p = 30\n",
    "k = 8\n",
    "betas = np.random.random(p) + 1\n",
    "new_betas = betas\n",
    "new_betas[np.random.choice(np.arange(p), p-k, replace=False)] = 0.0\n",
    "print_false(new_betas, a_result)\n",
    "\n",
    "k = 9\n",
    "betas = np.random.random(p) + 1\n",
    "new_betas = betas\n",
    "new_betas[np.random.choice(np.arange(p), p-k, replace=False)] = 0.0\n",
    "print_false(new_betas, b_result)\n",
    "\n",
    "k = 3\n",
    "betas = np.random.random(p) + 1\n",
    "new_betas = betas\n",
    "new_betas[np.random.choice(np.arange(p), p-k, replace=False)] = 0.0\n",
    "print_false(new_betas, c_result)\n"
   ]
  },
  {
   "cell_type": "code",
   "execution_count": null,
   "id": "31078a4c",
   "metadata": {},
   "outputs": [],
   "source": []
  },
  {
   "cell_type": "code",
   "execution_count": null,
   "id": "78ac5a5c",
   "metadata": {},
   "outputs": [],
   "source": []
  }
 ],
 "metadata": {
  "kernelspec": {
   "display_name": "Python 3",
   "language": "python",
   "name": "python3"
  },
  "language_info": {
   "codemirror_mode": {
    "name": "ipython",
    "version": 3
   },
   "file_extension": ".py",
   "mimetype": "text/x-python",
   "name": "python",
   "nbconvert_exporter": "python",
   "pygments_lexer": "ipython3",
   "version": "3.8.8"
  }
 },
 "nbformat": 4,
 "nbformat_minor": 5
}
