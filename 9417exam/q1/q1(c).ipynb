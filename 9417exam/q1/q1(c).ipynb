{
 "cells": [
  {
   "cell_type": "code",
   "execution_count": 10,
   "id": "29d17804",
   "metadata": {},
   "outputs": [
    {
     "data": {
      "text/plain": [
       "(250, 31)"
      ]
     },
     "execution_count": 10,
     "metadata": {},
     "output_type": "execute_result"
    }
   ],
   "source": [
    "import pandas as pd\n",
    "import numpy as np\n",
    "import matplotlib.pyplot as plt\n",
    "%matplotlib inline\n",
    "\n",
    "# load dataset\n",
    "data = pd.read_csv('Q1.csv', index_col=0)\n",
    "data.shape"
   ]
  },
  {
   "cell_type": "code",
   "execution_count": 11,
   "id": "517521b7",
   "metadata": {},
   "outputs": [],
   "source": [
    "data_x = data.iloc[:,0:30]\n",
    "data_y = data['Y']"
   ]
  },
  {
   "cell_type": "code",
   "execution_count": 18,
   "id": "c5024be6",
   "metadata": {},
   "outputs": [],
   "source": [
    "from sklearn.linear_model import LogisticRegression\n",
    "np.random.seed(20)\n",
    "B = 500\n",
    "C = 1000\n",
    "n = 250\n",
    "coefs = []\n",
    "D_is = []\n",
    "first_term = []\n",
    "classifier = LogisticRegression(solver='liblinear', C=C, penalty='l1')\n",
    "classifier.fit(data_x, data_y)\n",
    "classifier.coef_[0]\n",
    "\n",
    "for i in range(30):\n",
    "    first_term.append(n * classifier.coef_[0][i])\n",
    "    \n",
    "for i in range(n):\n",
    "    x_boot = data_x.drop(i)\n",
    "    y_boot = data_y.drop(i)\n",
    "    classifier = LogisticRegression(solver='liblinear', C=C, penalty='l1')\n",
    "    classifier.fit(x_boot, y_boot)\n",
    "    coefs.append(classifier.coef_[0])"
   ]
  },
  {
   "cell_type": "code",
   "execution_count": 19,
   "id": "4edbc460",
   "metadata": {},
   "outputs": [
    {
     "name": "stdout",
     "output_type": "stream",
     "text": [
      "250\n",
      "30\n"
     ]
    }
   ],
   "source": [
    "coefs = np.array(coefs)\n",
    "print(len(coefs))\n",
    "print(len(coefs[0]))"
   ]
  },
  {
   "cell_type": "code",
   "execution_count": 57,
   "id": "022f20ab",
   "metadata": {},
   "outputs": [],
   "source": [
    "gamas = []\n",
    "means = []\n",
    "stds = []\n",
    "S_square = []\n",
    "for i in range(n):\n",
    "    one_gama = []\n",
    "    for l in range(30):\n",
    "        one_gama.append(first_term[l] - (n-1)*coefs[i][l])\n",
    "    gamas.append(one_gama)\n",
    "\n",
    "for l in range(30):\n",
    "    means.append(np.mean(gama_ma[l]))\n",
    "    stds.append(np.std(gama_ma[l], ddof=0)**2)\n"
   ]
  },
  {
   "cell_type": "code",
   "execution_count": 59,
   "id": "b4eae30e",
   "metadata": {},
   "outputs": [
    {
     "name": "stdout",
     "output_type": "stream",
     "text": [
      "[0, 0, 0, 0, 0, 0, 0, 0, 0, 0, 0, 0, 0, 0, 0, 1, 0, 0, 0, 0, 1, 0, 0, 0, 0, 0, 1, 0, 0, 0]\n"
     ]
    },
    {
     "data": {
      "image/png": "[encoded data removed]",
      "text/plain": [
       "<Figure size 432x288 with 1 Axes>"
      ]
     },
     "metadata": {
      "needs_background": "light"
     },
     "output_type": "display_data"
    }
   ],
   "source": [
    "list_with_zero = []\n",
    "for i in range(30):\n",
    "    some_coef = np.sort(coefs[:,i])\n",
    "    some_coef = some_coef[25:475]\n",
    "    lower = means[i] - 1.645 * np.sqrt(stds[i] / n)\n",
    "    higher = means[i] + 1.645 * np.sqrt(stds[i] / n)\n",
    "\n",
    "    if (0 >= lower and 0 <= higher):\n",
    "        color = 'r'\n",
    "        list_with_zero.append(0)\n",
    "    else:\n",
    "        color = 'b'\n",
    "        list_with_zero.append(1)\n",
    "    \n",
    "    plt.plot([i + 1,i + 1], [lower, higher], color=color)\n",
    "    plt.plot(i + 1, means[i], 'o', color='black')\n",
    "\n",
    "print(list_with_zero)\n",
    "    \n",
    "plt.xlabel(\"Parameter number β1, . . . , βp\")\n",
    "plt.ylabel(\"Coef in interval\")\n",
    "plt.title('Bootstrap graph')\n",
    "plt.show()"
   ]
  },
  {
   "cell_type": "code",
   "execution_count": null,
   "id": "a507fa56",
   "metadata": {},
   "outputs": [],
   "source": []
  }
 ],
 "metadata": {
  "kernelspec": {
   "display_name": "Python 3",
   "language": "python",
   "name": "python3"
  },
  "language_info": {
   "codemirror_mode": {
    "name": "ipython",
    "version": 3
   },
   "file_extension": ".py",
   "mimetype": "text/x-python",
   "name": "python",
   "nbconvert_exporter": "python",
   "pygments_lexer": "ipython3",
   "version": "3.8.8"
  }
 },
 "nbformat": 4,
 "nbformat_minor": 5
}
