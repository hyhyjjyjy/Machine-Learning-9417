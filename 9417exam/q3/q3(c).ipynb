{
 "cells": [
  {
   "cell_type": "code",
   "execution_count": 85,
   "id": "62ebe760",
   "metadata": {},
   "outputs": [],
   "source": [
    "import numpy as np\n",
    "import pandas as pd # not really needed, only for preference\n",
    "import matplotlib.pyplot as plt"
   ]
  },
  {
   "cell_type": "code",
   "execution_count": 86,
   "id": "c05ff221",
   "metadata": {},
   "outputs": [],
   "source": [
    "def plot_perceptron(ax, data_X, data_y, w):\n",
    "#     print(np.where(y==1)[0])\n",
    "    X = pd.DataFrame(data_X)\n",
    "    y = pd.DataFrame(data_y)\n",
    "    pos_points = X.iloc[np.where(y==1)[0]]\n",
    "    neg_points = X.iloc[np.where(y==-1)[0]]\n",
    "    ax.scatter(pos_points[1], pos_points[2], color='blue')\n",
    "    ax.scatter(neg_points[1], neg_points[2], color='red')\n",
    "    xx = np.linspace(-6,6)\n",
    "    yy = -w[0]/w[2] - w[1]/w[2] * xx\n",
    "    ax.plot(xx, yy, color='orange')\n",
    "    \n",
    "    ratio = (w[2]/w[1] + w[1]/w[2])\n",
    "    xpt = (-1*w[0] / w[2]) * 1/ratio\n",
    "    ypt = (-1*w[0] / w[1]) * 1/ratio\n",
    "    \n",
    "    ax.arrow(xpt, ypt, w[1], w[2], head_width=0.2, color='orange')\n",
    "    ax.axis('equal')"
   ]
  },
  {
   "cell_type": "code",
   "execution_count": 87,
   "id": "ffc3b6fa",
   "metadata": {},
   "outputs": [],
   "source": [
    "def find_mistake_values(w, X, y, r, III):\n",
    "    sums = []\n",
    "    target_i = 0\n",
    "    for i in range(81):\n",
    "        one_sum = y[i] * np.matmul(w, X[i]) + III[i] * r\n",
    "        sums.append(one_sum)\n",
    "    sums = np.array(sums)\n",
    "    mistake_idxs = np.where(sums <= 0)[0]\n",
    "    return mistake_idxs\n",
    "\n",
    "def train_perceptron(X_data, y, max_iter=100, r=2):\n",
    "    eta=1\n",
    "    np.random.seed(1)\n",
    "    III = np.array([0 for i in range(81)])\n",
    "    w = np.array([0,0,0])\n",
    "    nmb_iter = 0\n",
    "    for _ in range(max_iter):               # termination condition (avoid running forever)\n",
    "        X = X_data\n",
    "        nmb_iter += 1           \n",
    "        mistake_idxs = find_mistake_values(w, X, y, r, III)\n",
    "        if mistake_idxs.size > 0:\n",
    "            i = np.random.choice(mistake_idxs)       \n",
    "            w = w + y[i] * X[i]\n",
    "            III[i] = 1\n",
    "#             print(f\"Iteration {nmb_iter}: alpha = {alpha}\")\n",
    "\n",
    "        else: # no mistake made\n",
    "            print(f\"Converged after {nmb_iter} iterations\")\n",
    "            return w, nmb_iter\n",
    "    print(\"Cannot converge\")\n",
    "    return w,nmb_iter"
   ]
  },
  {
   "cell_type": "code",
   "execution_count": 88,
   "id": "7b84f84b",
   "metadata": {},
   "outputs": [
    {
     "name": "stdout",
     "output_type": "stream",
     "text": [
      "(81, 1)\n",
      "(81, 3)\n",
      "Converged after 8 iterations\n"
     ]
    }
   ],
   "source": [
    "data_x = pd.read_csv('Q3X.csv')\n",
    "data_y = pd.read_csv('Q3y.csv')\n",
    "print(data_y.shape)\n",
    "print(data_x.shape)\n",
    "data_x = data_x.values\n",
    "data_y = data_y.values\n",
    "w, nmb_iter = train_perceptron(data_x, data_y, 100, 2)\n",
    "n = 81"
   ]
  },
  {
   "cell_type": "code",
   "execution_count": 89,
   "id": "12b387d1",
   "metadata": {},
   "outputs": [
    {
     "name": "stdout",
     "output_type": "stream",
     "text": [
      "[ 1.          3.28693386 -1.18092574]\n"
     ]
    },
    {
     "data": {
      "image/png": "[encoded data removed]",
      "text/plain": [
       "<Figure size 432x288 with 1 Axes>"
      ]
     },
     "metadata": {
      "needs_background": "light"
     },
     "output_type": "display_data"
    }
   ],
   "source": [
    "fig, ax = plt.subplots()\n",
    "print(w)\n",
    "plot_perceptron(ax, data_x, data_y, w) # from neural learning lab\n",
    "ax.set_title(f\"w = {w}, iterations={nmb_iter}\")\n",
    "plt.savefig(\"name.png\", dpi=300) # if you want to save your plot as a png\n",
    "plt.show()"
   ]
  },
  {
   "cell_type": "code",
   "execution_count": null,
   "id": "3bf6480b",
   "metadata": {},
   "outputs": [],
   "source": []
  },
  {
   "cell_type": "code",
   "execution_count": null,
   "id": "f5cd6087",
   "metadata": {},
   "outputs": [],
   "source": []
  }
 ],
 "metadata": {
  "kernelspec": {
   "display_name": "Python 3",
   "language": "python",
   "name": "python3"
  },
  "language_info": {
   "codemirror_mode": {
    "name": "ipython",
    "version": 3
   },
   "file_extension": ".py",
   "mimetype": "text/x-python",
   "name": "python",
   "nbconvert_exporter": "python",
   "pygments_lexer": "ipython3",
   "version": "3.8.8"
  }
 },
 "nbformat": 4,
 "nbformat_minor": 5
}
