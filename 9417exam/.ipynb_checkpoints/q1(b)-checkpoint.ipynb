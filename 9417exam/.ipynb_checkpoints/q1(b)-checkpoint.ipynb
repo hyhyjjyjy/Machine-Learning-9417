{
 "cells": [
  {
   "cell_type": "code",
   "execution_count": 104,
   "id": "09f622e2",
   "metadata": {},
   "outputs": [
    {
     "data": {
      "text/plain": [
       "(250, 31)"
      ]
     },
     "execution_count": 104,
     "metadata": {},
     "output_type": "execute_result"
    }
   ],
   "source": [
    "import pandas as pd\n",
    "import numpy as np\n",
    "import matplotlib.pyplot as plt\n",
    "%matplotlib inline\n",
    "\n",
    "# load dataset\n",
    "data = pd.read_csv('Q1.csv', index_col=0)\n",
    "data.shape"
   ]
  },
  {
   "cell_type": "code",
   "execution_count": 105,
   "id": "7b4c2f89",
   "metadata": {},
   "outputs": [],
   "source": [
    "data_x = data.iloc[:,0:30]\n",
    "data_y = data['Y']"
   ]
  },
  {
   "cell_type": "code",
   "execution_count": 109,
   "id": "2cfd407c",
   "metadata": {},
   "outputs": [],
   "source": [
    "from sklearn.linear_model import LogisticRegression\n",
    "np.random.seed(20)\n",
    "B = 500\n",
    "C = 1000\n",
    "n = 250\n",
    "coefs = []\n",
    "new_data_y = data_y\n",
    "classifier = LogisticRegression(solver='liblinear', C=C, penalty='l1')\n",
    "classifier.fit(data_x, data_y)\n",
    "for i in range(B):\n",
    "    x_boot = data_x\n",
    "    p = classifier.predict_proba(x_boot)\n",
    "    p = pd.DataFrame(p)\n",
    "    new_data_y = np.random.binomial(1, p[1])\n",
    "    new_classifier = LogisticRegression(solver='liblinear', C=C, penalty='l1')\n",
    "    new_classifier.fit(x_boot, new_data_y)\n",
    "    coefs.append(new_classifier.coef_[0])"
   ]
  },
  {
   "cell_type": "code",
   "execution_count": 110,
   "id": "a25d9ed1",
   "metadata": {},
   "outputs": [
    {
     "name": "stdout",
     "output_type": "stream",
     "text": [
      "500\n",
      "30\n"
     ]
    }
   ],
   "source": [
    "coefs = np.array(coefs)\n",
    "print(len(coefs))\n",
    "print(len(coefs[0]))"
   ]
  },
  {
   "cell_type": "code",
   "execution_count": 113,
   "id": "8546db74",
   "metadata": {},
   "outputs": [
    {
     "name": "stdout",
     "output_type": "stream",
     "text": [
      "[0, 1, 0, 0, 0, 1, 0, 0, 0, 0, 0, 0, 0, 0, 1, 1, 0, 0, 0, 0, 1, 1, 1, 1, 0, 0, 1, 0, 0, 0]\n"
     ]
    },
    {
     "data": {
      "image/png": "[encoded data removed]",
      "text/plain": [
       "<Figure size 432x288 with 1 Axes>"
      ]
     },
     "metadata": {
      "needs_background": "light"
     },
     "output_type": "display_data"
    }
   ],
   "source": [
    "list_with_zero = []\n",
    "for i in range(30):\n",
    "    some_coef = np.sort(coefs[:,i])\n",
    "    some_coef = some_coef[25:475]\n",
    "    \n",
    "    if (0 >= min(some_coef) and 0 <= max(some_coef)):\n",
    "        color = 'r'\n",
    "        list_with_zero.append(0)\n",
    "    else:\n",
    "        color = 'b'\n",
    "        list_with_zero.append(1)\n",
    "    \n",
    "    plt.plot([i + 1,i + 1], [min(some_coef), max(some_coef)], color=color)\n",
    "    plt.plot(i + 1, some_coef.mean(), 'o', color='black')\n",
    "\n",
    "print(list_with_zero)\n",
    "\n",
    "plt.xlabel(\"Parameter number β1, . . . , βp\")\n",
    "plt.ylabel(\"Coef in interval\")\n",
    "plt.title('Bootstrap graph')\n",
    "plt.show()"
   ]
  },
  {
   "cell_type": "code",
   "execution_count": null,
   "id": "ffa46a33",
   "metadata": {},
   "outputs": [],
   "source": []
  }
 ],
 "metadata": {
  "kernelspec": {
   "display_name": "Python 3",
   "language": "python",
   "name": "python3"
  },
  "language_info": {
   "codemirror_mode": {
    "name": "ipython",
    "version": 3
   },
   "file_extension": ".py",
   "mimetype": "text/x-python",
   "name": "python",
   "nbconvert_exporter": "python",
   "pygments_lexer": "ipython3",
   "version": "3.8.8"
  }
 },
 "nbformat": 4,
 "nbformat_minor": 5
}
