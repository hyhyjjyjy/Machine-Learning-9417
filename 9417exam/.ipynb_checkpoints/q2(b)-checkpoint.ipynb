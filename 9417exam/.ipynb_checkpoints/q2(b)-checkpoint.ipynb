{
 "cells": [
  {
   "cell_type": "code",
   "execution_count": 1,
   "id": "bf3696c2",
   "metadata": {},
   "outputs": [],
   "source": [
    "import numpy as np\n",
    "import pandas as pd # not really needed, only for preference\n",
    "import matplotlib.pyplot as plt"
   ]
  },
  {
   "cell_type": "code",
   "execution_count": 2,
   "id": "b427eeb3",
   "metadata": {},
   "outputs": [],
   "source": [
    "def per(n):\n",
    "    lists = []\n",
    "    for i in range(1<<n):\n",
    "        s=bin(i)[2:]\n",
    "        s='0'*(n-len(s))+s\n",
    "        lists.append(list(map(int,list(s))))\n",
    "    return lists"
   ]
  },
  {
   "cell_type": "code",
   "execution_count": 55,
   "id": "0d00339c",
   "metadata": {},
   "outputs": [],
   "source": [
    "def train_perceptron(X_data, y, size, max_iter=10000):\n",
    "    \n",
    "    eta=1\n",
    "    np.random.seed(1)\n",
    "    w = np.array([0 for i in range(size + 1)])       \n",
    "    nmb_iter = 0\n",
    "    for _ in range(max_iter):        \n",
    "        X = X_data\n",
    "        nmb_iter += 1    \n",
    "        yXw = (y * X) @ w.T   \n",
    "        mistake_idxs = np.where(yXw <= 0)[0]\n",
    "        if mistake_idxs.size > 0:\n",
    "            i = np.random.choice(mistake_idxs)       \n",
    "            w = w + y[i] * X[i]            \n",
    "#             print(f\"Iteration {nmb_iter}: w = {w}\")\n",
    "        else: # no mistake made\n",
    "            print(f\"Converged after {nmb_iter} iterations\")\n",
    "            return w, nmb_iter\n",
    "    print(\"Cannot converge\")\n",
    "    return w,nmb_iter"
   ]
  },
  {
   "cell_type": "code",
   "execution_count": 56,
   "id": "900cd183",
   "metadata": {},
   "outputs": [],
   "source": [
    "def get_y(target_x, size):\n",
    "    strings = per(size)  \n",
    "    y = [-1 for i in range(len(strings))]\n",
    "    for i in range(len(strings)):\n",
    "        if strings[i] in target_x:\n",
    "            y[i] = 1\n",
    "    return y"
   ]
  },
  {
   "cell_type": "code",
   "execution_count": 57,
   "id": "f67e85d4",
   "metadata": {},
   "outputs": [],
   "source": [
    "def do_perceptron(size, target_x):\n",
    "    target_y = get_y(target_x, size)\n",
    "    target_y = np.array(np.mat(target_y).T)\n",
    "    strings  = per(size)\n",
    "    for string in strings:\n",
    "        string.insert(0, 1)\n",
    "    strings = np.array(strings)\n",
    "    train_perceptron(strings, target_y, size, 10000)"
   ]
  },
  {
   "cell_type": "code",
   "execution_count": 58,
   "id": "4b8cb0ec",
   "metadata": {},
   "outputs": [
    {
     "name": "stdout",
     "output_type": "stream",
     "text": [
      "Cannot converge\n"
     ]
    }
   ],
   "source": [
    "target_x = [[0,1,1], [1,0,0], [1,1,0], [1,1,1]]\n",
    "do_perceptron(3, target_x)"
   ]
  },
  {
   "cell_type": "code",
   "execution_count": 59,
   "id": "e31e9fe9",
   "metadata": {},
   "outputs": [
    {
     "name": "stdout",
     "output_type": "stream",
     "text": [
      "Cannot converge\n"
     ]
    }
   ],
   "source": [
    "target_x = [[0,1,0], [0,1,1], [1,0,0], [1,1,1]]\n",
    "do_perceptron(3, target_x)"
   ]
  },
  {
   "cell_type": "code",
   "execution_count": 60,
   "id": "618b8a40",
   "metadata": {},
   "outputs": [
    {
     "name": "stdout",
     "output_type": "stream",
     "text": [
      "Converged after 18 iterations\n"
     ]
    }
   ],
   "source": [
    "target_x = [[0,1,0,0], [0,1,0,1], [0,1,1,0], [1,0,0,0], [1,1,0,0], [1,1,0,1], [1,1,1,0], [1,1,1,1]]\n",
    "do_perceptron(4, target_x)"
   ]
  },
  {
   "cell_type": "code",
   "execution_count": 61,
   "id": "9ca899dc",
   "metadata": {},
   "outputs": [
    {
     "name": "stdout",
     "output_type": "stream",
     "text": [
      "Converged after 60 iterations\n"
     ]
    }
   ],
   "source": [
    "target_x = [[1,0,0,0,0,0,0], [1,0,0,0,0,0,1], [1,0,0,0,1,0,1]]\n",
    "do_perceptron(7, target_x)"
   ]
  }
 ],
 "metadata": {
  "kernelspec": {
   "display_name": "Python 3",
   "language": "python",
   "name": "python3"
  },
  "language_info": {
   "codemirror_mode": {
    "name": "ipython",
    "version": 3
   },
   "file_extension": ".py",
   "mimetype": "text/x-python",
   "name": "python",
   "nbconvert_exporter": "python",
   "pygments_lexer": "ipython3",
   "version": "3.8.8"
  }
 },
 "nbformat": 4,
 "nbformat_minor": 5
}
