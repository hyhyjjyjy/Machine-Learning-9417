{
 "cells": [
  {
   "cell_type": "code",
   "execution_count": 72,
   "id": "20bdbcbe",
   "metadata": {},
   "outputs": [
    {
     "data": {
      "text/plain": [
       "(250, 31)"
      ]
     },
     "execution_count": 72,
     "metadata": {},
     "output_type": "execute_result"
    }
   ],
   "source": [
    "import pandas as pd\n",
    "import numpy as np\n",
    "import matplotlib.pyplot as plt\n",
    "%matplotlib inline\n",
    "\n",
    "# load dataset\n",
    "data = pd.read_csv('Q1.csv', index_col=0)\n",
    "data.shape"
   ]
  },
  {
   "cell_type": "code",
   "execution_count": 73,
   "id": "28548ae0",
   "metadata": {},
   "outputs": [],
   "source": [
    "data_x = data.iloc[:,0:30]\n",
    "data_y = data['Y']"
   ]
  },
  {
   "cell_type": "code",
   "execution_count": 74,
   "id": "9e0cd373",
   "metadata": {},
   "outputs": [],
   "source": [
    "from sklearn.linear_model import LogisticRegression\n",
    "\n",
    "coefs = []\n",
    "\n",
    "c = 1000\n",
    "B = 500\n",
    "np.random.seed(12)\n",
    "for l in range(B):\n",
    "    numbers = np.random.choice(np.arange(data_x.shape[0]), size=data_x.shape[0])\n",
    "    x_boot = data_x.loc[numbers]\n",
    "    y_boot = data_y.loc[numbers]\n",
    "    classifier = LogisticRegression(solver='liblinear', C=c, penalty='l1')\n",
    "    classifier.fit(x_boot, y_boot)\n",
    "    \n",
    "    coefs.append(classifier.coef_[0])\n",
    "coefs = np.array(coefs)\n"
   ]
  },
  {
   "cell_type": "code",
   "execution_count": 75,
   "id": "76cb7f8f",
   "metadata": {},
   "outputs": [
    {
     "name": "stdout",
     "output_type": "stream",
     "text": [
      "500\n",
      "30\n"
     ]
    }
   ],
   "source": [
    "coefs = np.array(coefs)\n",
    "print(len(coefs))\n",
    "print(len(coefs[0]))"
   ]
  },
  {
   "cell_type": "code",
   "execution_count": 77,
   "id": "990992e3",
   "metadata": {},
   "outputs": [
    {
     "name": "stdout",
     "output_type": "stream",
     "text": [
      "[0, 0, 0, 0, 0, 1, 0, 0, 0, 0, 0, 0, 0, 0, 1, 1, 1, 0, 0, 0, 1, 0, 1, 1, 0, 0, 1, 0, 0, 0]\n"
     ]
    },
    {
     "data": {
      "image/png": "[encoded data removed]",
      "text/plain": [
       "<Figure size 432x288 with 1 Axes>"
      ]
     },
     "metadata": {
      "needs_background": "light"
     },
     "output_type": "display_data"
    }
   ],
   "source": [
    "list_with_zero = []\n",
    "for i in range(30):\n",
    "    some_coef = np.sort(coefs[:,i])\n",
    "    some_coef = some_coef[25:475]\n",
    "    \n",
    "    if (0 >= min(some_coef) and 0 <= max(some_coef)):\n",
    "        color = 'r'\n",
    "        list_with_zero.append(0)\n",
    "    else:\n",
    "        color = 'b'\n",
    "        list_with_zero.append(1)\n",
    "    \n",
    "    plt.plot([i + 1,i + 1], [min(some_coef), max(some_coef)], color=color)\n",
    "    plt.plot(i + 1, some_coef.mean(), 'o', color='black')\n",
    "    \n",
    "print(list_with_zero)\n",
    "    \n",
    "plt.xlabel(\"Parameter number β1, . . . , βp\")\n",
    "plt.ylabel(\"Coef in interval\")\n",
    "plt.title('Bootstrap graph')\n",
    "plt.show()"
   ]
  },
  {
   "cell_type": "code",
   "execution_count": null,
   "id": "50171947",
   "metadata": {},
   "outputs": [],
   "source": []
  }
 ],
 "metadata": {
  "kernelspec": {
   "display_name": "Python 3",
   "language": "python",
   "name": "python3"
  },
  "language_info": {
   "codemirror_mode": {
    "name": "ipython",
    "version": 3
   },
   "file_extension": ".py",
   "mimetype": "text/x-python",
   "name": "python",
   "nbconvert_exporter": "python",
   "pygments_lexer": "ipython3",
   "version": "3.8.8"
  }
 },
 "nbformat": 4,
 "nbformat_minor": 5
}
