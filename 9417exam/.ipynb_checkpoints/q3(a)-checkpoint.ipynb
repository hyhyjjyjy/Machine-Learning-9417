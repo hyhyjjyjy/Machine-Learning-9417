{
 "cells": [
  {
   "cell_type": "code",
   "execution_count": 207,
   "id": "61dc9ae1",
   "metadata": {},
   "outputs": [],
   "source": [
    "import numpy as np\n",
    "import pandas as pd # not really needed, only for preference\n",
    "import matplotlib.pyplot as plt"
   ]
  },
  {
   "cell_type": "code",
   "execution_count": 208,
   "id": "3cec85a4",
   "metadata": {},
   "outputs": [],
   "source": [
    "def plot_perceptron(ax, data_X, data_y, w):\n",
    "#     print(np.where(y==1)[0])\n",
    "    X = pd.DataFrame(data_X)\n",
    "    y = pd.DataFrame(data_y)\n",
    "    pos_points = X.iloc[np.where(y==1)[0]]\n",
    "    neg_points = X.iloc[np.where(y==-1)[0]]\n",
    "    ax.scatter(pos_points[1], pos_points[2], color='blue')\n",
    "    ax.scatter(neg_points[1], neg_points[2], color='red')\n",
    "    xx = np.linspace(-6,6)\n",
    "    yy = -w[0]/w[2] - w[1]/w[2] * xx\n",
    "    ax.plot(xx, yy, color='orange')\n",
    "    ratio = (w[2]/w[1] + w[1]/w[2])\n",
    "    xpt = (-1*w[0] / w[2]) * 1/ratio\n",
    "    ypt = (-1*w[0] / w[1]) * 1/ratio\n",
    "    ax.arrow(xpt, ypt, w[1], w[2], head_width=0.2, color='orange')\n",
    "    ax.axis('equal')"
   ]
  },
  {
   "cell_type": "code",
   "execution_count": 209,
   "id": "f88c09c3",
   "metadata": {},
   "outputs": [],
   "source": [
    "def train_perceptron(X_data, y, max_iter=100):\n",
    "    \n",
    "    eta=1\n",
    "    np.random.seed(1)\n",
    "    w = np.array([0,0,0])       \n",
    "    nmb_iter = 0\n",
    "    for _ in range(max_iter):               # termination condition (avoid running forever)\n",
    "        X = X_data\n",
    "        nmb_iter += 1           \n",
    "        yXw = (y * X) @ w.T   \n",
    "        mistake_idxs = np.where(yXw <= 0)[0]\n",
    "        if mistake_idxs.size > 0:\n",
    "            i = np.random.choice(mistake_idxs)       \n",
    "            w = w + y[i] * X[i]            \n",
    "#             print(f\"Iteration {nmb_iter}: w = {w}\")\n",
    "        else: # no mistake made\n",
    "            print(f\"Converged after {nmb_iter} iterations\")\n",
    "            return w, nmb_iter\n",
    "    print(\"Cannot converge\")\n",
    "    return w,nmb_iter"
   ]
  },
  {
   "cell_type": "code",
   "execution_count": 210,
   "id": "6d0c3c76",
   "metadata": {},
   "outputs": [
    {
     "name": "stdout",
     "output_type": "stream",
     "text": [
      "(81, 1)\n",
      "(81, 3)\n"
     ]
    }
   ],
   "source": [
    "data_x = pd.read_csv('Q3X.csv')\n",
    "data_y = pd.read_csv('Q3y.csv')\n",
    "print(data_y.shape)\n",
    "print(data_x.shape)\n",
    "data_x = np.array(data_x)\n",
    "data_y = np.array(data_y)"
   ]
  },
  {
   "cell_type": "code",
   "execution_count": 211,
   "id": "38b10cee",
   "metadata": {},
   "outputs": [
    {
     "name": "stdout",
     "output_type": "stream",
     "text": [
      "Converged after 33 iterations\n"
     ]
    },
    {
     "data": {
      "image/png": "[encoded data removed]",
      "text/plain": [
       "<Figure size 432x288 with 1 Axes>"
      ]
     },
     "metadata": {
      "needs_background": "light"
     },
     "output_type": "display_data"
    }
   ],
   "source": [
    "w,nmb_iter = train_perceptron(data_x, data_y, 100)\n",
    "fig, ax = plt.subplots()\n",
    "plot_perceptron(ax, data_x, data_y, w)\n",
    "ax.set_title(f\"w={w}, iterations={nmb_iter}\")\n",
    "plt.show()"
   ]
  },
  {
   "cell_type": "code",
   "execution_count": null,
   "id": "8d8230e7",
   "metadata": {},
   "outputs": [],
   "source": []
  },
  {
   "cell_type": "code",
   "execution_count": null,
   "id": "32cf5102",
   "metadata": {},
   "outputs": [],
   "source": []
  }
 ],
 "metadata": {
  "kernelspec": {
   "display_name": "Python 3",
   "language": "python",
   "name": "python3"
  },
  "language_info": {
   "codemirror_mode": {
    "name": "ipython",
    "version": 3
   },
   "file_extension": ".py",
   "mimetype": "text/x-python",
   "name": "python",
   "nbconvert_exporter": "python",
   "pygments_lexer": "ipython3",
   "version": "3.8.8"
  }
 },
 "nbformat": 4,
 "nbformat_minor": 5
}
