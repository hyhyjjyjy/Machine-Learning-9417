{
 "cells": [
  {
   "cell_type": "code",
   "execution_count": 1,
   "id": "12ff7940",
   "metadata": {},
   "outputs": [],
   "source": [
    "import pandas as pd\n",
    "import numpy as np\n",
    "import matplotlib.pyplot as plt\n",
    "import seaborn as sns\n",
    "%matplotlib inline\n",
    "\n",
    "from sklearn.model_selection import train_test_split\n",
    "# load dataset\n",
    "data = pd.read_csv('Q1.csv')\n",
    "data.head()\n",
    "numerics = ['int16', 'int32', 'int64', 'float16', 'float32', 'float64']\n",
    "numerical_vars = list(data.select_dtypes(include=numerics).columns)\n",
    "data = data[numerical_vars]\n",
    "data.shape\n",
    "data_train,data_test = train_test_split(\n",
    "    data,\n",
    "    #data.drop(labels=['Y'], axis=1),\n",
    "    #data['Y'],\n",
    "    train_size=500,\n",
    "    shuffle=False)\n",
    "\n",
    "x_train = data_train.drop(labels=['Y'], axis=1)\n",
    "y_train = data_train['Y']\n",
    "x_test = data_test.drop(labels=['Y'], axis=1)\n",
    "y_test = data_test['Y']"
   ]
  },
  {
   "cell_type": "code",
   "execution_count": 2,
   "id": "d3bdd791",
   "metadata": {
    "scrolled": true
   },
   "outputs": [],
   "source": [
    "from sklearn.linear_model import LogisticRegression\n",
    "\n",
    "coefs = []\n",
    "for i in range(45):\n",
    "    coefs.append([])\n",
    "\n",
    "B = 10000\n",
    "np.random.seed(12)\n",
    "for l in range(10000):\n",
    "    data_boot = data_train.iloc[np.random.randint(0,500,500),]\n",
    "    #print(data_boot)\n",
    "    #data_boot = data_train.iloc[boot,]\n",
    "    x_boot = data_boot.drop(labels=['Y'], axis=1)\n",
    "    y_boot = data_boot['Y']\n",
    "    classifier = LogisticRegression(solver='liblinear', C=1, penalty='l1')\n",
    "    classifier.fit(x_boot, y_boot)\n",
    "    for i in range(len(classifier.coef_[0])):\n",
    "        coefs[i].append(classifier.coef_[0][i])\n",
    "#print(coefs[0])"
   ]
  },
  {
   "cell_type": "code",
   "execution_count": 3,
   "id": "6d880a0e",
   "metadata": {},
   "outputs": [],
   "source": [
    "coef_mean = []\n",
    "coef_std = []\n",
    "for i in range(45):\n",
    "    coef_mean.append(np.mean(coefs[i]))\n",
    "    coef_std.append(np.std(coefs[i],ddof=1))"
   ]
  },
  {
   "cell_type": "code",
   "execution_count": 10,
   "id": "f8554d38",
   "metadata": {
    "scrolled": true
   },
   "outputs": [
    {
     "data": {
      "image/png": "[encoded data removed]",
      "text/plain": [
       "<Figure size 432x288 with 1 Axes>"
      ]
     },
     "metadata": {
      "needs_background": "light"
     },
     "output_type": "display_data"
    }
   ],
   "source": [
    "import matplotlib.pyplot as plt\n",
    "from scipy import stats\n",
    "\n",
    "alpha = 0.95\n",
    "B = 10000\n",
    "#print(coefs[i])\n",
    "dots_y = []\n",
    "dots_x = []\n",
    "red_cols = []\n",
    "mean_cols = []\n",
    "for i in range(45):\n",
    "    #conf_intveral = stats.norm.interval(0.95, loc = coef_mean[i], scale=coef_std[i])\n",
    "    some_coef = coefs[i]\n",
    "    some_coef = np.sort(coefs[i])\n",
    "    lower = some_coef[int(B * 0.05) - 1]\n",
    "    higher = some_coef[int(B * 0.95) - 1]\n",
    "    #print(lower, higher)\n",
    "    #lower = max(0,np.percentile(coefs[i], 10))\n",
    "    if (lower <= 0 and higher >= 0):\n",
    "        red_cols.append(i)\n",
    "    mean = 0\n",
    "    for l in range(len(some_coef)):\n",
    "        if (some_coef[l] >= lower and some_coef[l] <= higher):\n",
    "            mean += some_coef[l]\n",
    "            dots_x.append(i)\n",
    "            dots_y.append(some_coef[l])\n",
    "    mean = mean / len(some_coef)\n",
    "    #print(mean)\n",
    "    dots_x.append(i)\n",
    "    dots_y.append(mean)\n",
    "    mean_cols.append(len(dots_x))\n",
    "    #lower = max(0,np.percentile(coefs[i], 10))\n",
    "    #upper = min(np.percentile(coefs[i], 90), 1)\n",
    "    #print('%.1f confidence interval %.1f%% and %.1f%%' % (alpha*100, lower*100, upper*100))\n",
    "    #stats.append(abs(lower))\n",
    "#plt.bar(range(45), stats)\n",
    "#plt.show()\n",
    "colors = []\n",
    "def getColor():\n",
    "    for i in range(len(dots_x)):\n",
    "        if (i + 1) in mean_cols:\n",
    "            colors.append(\"k\")\n",
    "        elif dots_x[i] in red_cols :\n",
    "            colors.append(\"r\")\n",
    "        else: \n",
    "            colors.append(\"b\") \n",
    "getColor()\n",
    "plt.title(\"The distribution\")\n",
    "plt.xlabel(\"Parameter number\")\n",
    "plt.ylabel(\"Coef in interval\")\n",
    "\n",
    "plt.scatter(dots_x, dots_y,s=[40 if (i + 1) in mean_cols else 1 for i in range(len(dots_x))] , \n",
    "            c=colors)\n",
    "plt.show()\n"
   ]
  },
  {
   "cell_type": "code",
   "execution_count": null,
   "id": "1a69d281",
   "metadata": {},
   "outputs": [],
   "source": []
  },
  {
   "cell_type": "code",
   "execution_count": null,
   "id": "de04e3a7",
   "metadata": {},
   "outputs": [],
   "source": []
  }
 ],
 "metadata": {
  "kernelspec": {
   "display_name": "Python 3",
   "language": "python",
   "name": "python3"
  },
  "language_info": {
   "codemirror_mode": {
    "name": "ipython",
    "version": 3
   },
   "file_extension": ".py",
   "mimetype": "text/x-python",
   "name": "python",
   "nbconvert_exporter": "python",
   "pygments_lexer": "ipython3",
   "version": "3.8.8"
  }
 },
 "nbformat": 4,
 "nbformat_minor": 5
}
