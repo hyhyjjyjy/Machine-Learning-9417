{
 "cells": [
  {
   "cell_type": "code",
   "execution_count": 1,
   "id": "fc36b541",
   "metadata": {},
   "outputs": [],
   "source": [
    "import pandas as pd\n",
    "import numpy as np\n",
    "import matplotlib.pyplot as plt\n",
    "import seaborn as sns\n",
    "%matplotlib inline\n",
    "\n",
    "from sklearn.model_selection import train_test_split\n",
    "# load dataset\n",
    "data = pd.read_csv('Q1.csv')\n",
    "data.head()\n",
    "numerics = ['int16', 'int32', 'int64', 'float16', 'float32', 'float64']\n",
    "numerical_vars = list(data.select_dtypes(include=numerics).columns)\n",
    "data = data[numerical_vars]\n",
    "data.shape\n",
    "data_train,data_test = train_test_split(\n",
    "    data,\n",
    "    #data.drop(labels=['Y'], axis=1),\n",
    "    #data['Y'],\n",
    "    train_size=500,\n",
    "    shuffle=False)\n",
    "\n",
    "x_train = data_train.drop(labels=['Y'], axis=1)\n",
    "y_train = data_train['Y']\n",
    "x_test = data_test.drop(labels=['Y'], axis=1)\n",
    "y_test = data_test['Y']\n"
   ]
  },
  {
   "cell_type": "code",
   "execution_count": 2,
   "id": "820275ac",
   "metadata": {},
   "outputs": [
    {
     "name": "stdout",
     "output_type": "stream",
     "text": [
      "\n"
     ]
    }
   ],
   "source": [
    "from sklearn.linear_model import LogisticRegression\n",
    "from sklearn.model_selection import GridSearchCV\n",
    "\n",
    "param_grid = {'C': np.linspace(0.0001,0.6,100)}\n",
    "\n",
    "grid_lr = GridSearchCV(estimator= LogisticRegression(penalty='l1', solver='liblinear'), \n",
    "                       param_grid=param_grid, cv=10)\n",
    "grid_lr.fit(x_train, y_train)\n",
    "print()"
   ]
  },
  {
   "cell_type": "code",
   "execution_count": 3,
   "id": "a18170ea",
   "metadata": {},
   "outputs": [
    {
     "name": "stdout",
     "output_type": "stream",
     "text": [
      "Test score: 0.74\n",
      "Train score: 0.752\n",
      "best parameter:  {'C': 0.012219191919191918}\n"
     ]
    }
   ],
   "source": [
    "print(f\"Test score: {grid_lr.score(x_test, y_test)}\")\n",
    "print(f\"Train score: {grid_lr.score(x_train, y_train)}\")\n",
    "print(\"best parameter: \", grid_lr.best_params_)"
   ]
  },
  {
   "cell_type": "code",
   "execution_count": 10,
   "id": "534ce8f2",
   "metadata": {},
   "outputs": [
    {
     "name": "stdout",
     "output_type": "stream",
     "text": [
      "\n",
      "best parameter:  {'C': 0.18794747474747472}\n"
     ]
    }
   ],
   "source": [
    "import sklearn.model_selection as cv\n",
    "#skf = ShuffleSplit(n_splits=3, random_state=0)\n",
    "skf = cv.KFold(n_splits=10)\n",
    "grid_lr = GridSearchCV(estimator= LogisticRegression(penalty='l1', solver='liblinear'), \n",
    "                       param_grid=param_grid, cv=skf, scoring='neg_log_loss')\n",
    "grid_lr.fit(x_train, y_train)\n",
    "print()\n",
    "print(\"best parameter: \", grid_lr.best_params_)"
   ]
  },
  {
   "cell_type": "code",
   "execution_count": 12,
   "id": "6c25b34c",
   "metadata": {},
   "outputs": [
    {
     "name": "stdout",
     "output_type": "stream",
     "text": [
      "Test score: 0.74\n",
      "Train score: 0.752\n"
     ]
    }
   ],
   "source": [
    "# from sklearn import metrics\n",
    "# best_model = grid_lr.best_estimator_\n",
    "# predict_y=best_model.predict(x_train)\n",
    "classifier = LogisticRegression(solver='liblinear', C=grid_lr.best_params_['C'], penalty='l1')\n",
    "classifier.fit(x_train, y_train)\n",
    "print(f\"Test score: {classifier.score(x_test, y_test)}\")\n",
    "print(f\"Train score: {classifier.score(x_train, y_train)}\")"
   ]
  },
  {
   "cell_type": "code",
   "execution_count": null,
   "id": "a4e708ba",
   "metadata": {},
   "outputs": [],
   "source": []
  }
 ],
 "metadata": {
  "kernelspec": {
   "display_name": "Python 3",
   "language": "python",
   "name": "python3"
  },
  "language_info": {
   "codemirror_mode": {
    "name": "ipython",
    "version": 3
   },
   "file_extension": ".py",
   "mimetype": "text/x-python",
   "name": "python",
   "nbconvert_exporter": "python",
   "pygments_lexer": "ipython3",
   "version": "3.8.8"
  }
 },
 "nbformat": 4,
 "nbformat_minor": 5
}
