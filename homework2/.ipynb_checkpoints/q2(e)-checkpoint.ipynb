{
 "cells": [
  {
   "cell_type": "code",
   "execution_count": 8,
   "id": "4e455ed5",
   "metadata": {},
   "outputs": [],
   "source": [
    "import jax.numpy as jnp\n",
    "from jax import grad\n",
    "import pandas as pd\n",
    "import numpy as np\n",
    "import matplotlib.pyplot as plt\n",
    "from sklearn import preprocessing\n",
    "%matplotlib inline\n",
    "from sklearn.model_selection import train_test_split\n",
    "\n",
    "\n",
    "data = pd.read_csv('Q2.csv')\n",
    "data = data[~np.isnan(data).any(axis=1)]\n",
    "data_x = data.drop(labels=['transactiondate','latitude','longitude','price'],axis=1)\n",
    "data_y = data['price']\n",
    "\n",
    "min_max_scaler = preprocessing.MinMaxScaler()\n",
    "data_x = min_max_scaler.fit_transform(data_x)\n",
    "data_x = pd.DataFrame(data_x)\n",
    "train_x,test_x,train_y,test_y = train_test_split(\n",
    "    data_x,\n",
    "    data_y,\n",
    "    train_size = 0.5,\n",
    "    shuffle=False)\n"
   ]
  },
  {
   "cell_type": "code",
   "execution_count": null,
   "id": "997b17f9",
   "metadata": {},
   "outputs": [],
   "source": [
    "\n",
    "w = np.array([1,1,1,1], dtype=float)\n",
    "def lossFunc(w_t, x, y):\n",
    "  return np.sum( (jnp.sqrt(((y - jnp.dot(w_t, x.T))**2)/4 + 1) - 1) ) / 204\n"
   ]
  },
  {
   "cell_type": "code",
   "execution_count": null,
   "id": "912ea169",
   "metadata": {},
   "outputs": [],
   "source": [
    "length = train_x.shape[0]\n",
    "w = np.array([1,1,1,1], dtype=float)\n",
    "iteration = 0\n",
    "\n",
    "one_test_x = test_x.values\n",
    "one_test_x = np.insert(one_test_x, 0, 1.0, axis=1)\n",
    "one_train_x = train_x.values\n",
    "one_train_x = np.insert(one_train_x, 0, 1.0, axis=1)\n",
    "\n",
    "x_k = []\n",
    "x_k.append(w)\n",
    "loss_k = []\n",
    "while 1 == 1:\n",
    "  W_grad = grad(lossFunc, argnums=0, allow_int=True)(w.T, one_train_x, train_y.values)\n",
    "  loss_k.append(lossFunc(w.T, one_train_x, train_y.values))\n",
    "  \n",
    "  w = w - W_grad\n",
    "  x_k.append(w)\n",
    "  iteration += 1\n",
    "  if (iteration > 1):\n",
    "    if (np.abs(loss_k[-2] - loss_k[-1]) < 0.0001):\n",
    "      break\n",
    "print(iteration)\n"
   ]
  },
  {
   "cell_type": "code",
   "execution_count": null,
   "id": "6db4767e",
   "metadata": {},
   "outputs": [],
   "source": [
    "print(f\"The final weight vector is{x_k[-1]}\")\n",
    "print(f\"The train loss is {lossFunc(x_k[-1].T, one_train_x, train_y.values)}\\nThe test loss is \\\n",
    "{lossFunc(x_k[-1].T, one_test_x, test_y.values)}\")\n",
    "import matplotlib.pyplot as plt\n",
    "%matplotlib inline\n",
    "plt.plot(loss_k)\n",
    "plt.show()"
   ]
  }
 ],
 "metadata": {
  "kernelspec": {
   "display_name": "Python 3",
   "language": "python",
   "name": "python3"
  },
  "language_info": {
   "codemirror_mode": {
    "name": "ipython",
    "version": 3
   },
   "file_extension": ".py",
   "mimetype": "text/x-python",
   "name": "python",
   "nbconvert_exporter": "python",
   "pygments_lexer": "ipython3",
   "version": "3.8.8"
  }
 },
 "nbformat": 4,
 "nbformat_minor": 5
}
