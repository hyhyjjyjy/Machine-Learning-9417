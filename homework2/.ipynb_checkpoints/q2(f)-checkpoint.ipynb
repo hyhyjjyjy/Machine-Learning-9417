{
 "cells": [
  {
   "cell_type": "code",
   "execution_count": 124,
   "metadata": {
    "id": "nltUWE3x5eiw"
   },
   "outputs": [],
   "source": [
    "import jax.numpy as jnp\n",
    "from jax import grad\n",
    "import pandas as pd\n",
    "import numpy as np\n",
    "import matplotlib.pyplot as plt\n",
    "from sklearn import preprocessing\n",
    "from scipy.optimize import minimize,minimize_scalar\n",
    "%matplotlib inline\n",
    "from sklearn.model_selection import train_test_split\n",
    "\n",
    "\n",
    "data = pd.read_csv('Q2.csv')\n",
    "data = data[~np.isnan(data).any(axis=1)]\n",
    "data_x = data.drop(labels=['transactiondate','latitude','longitude','price'],axis=1)\n",
    "data_y = data['price']\n",
    "\n",
    "min_max_scaler = preprocessing.MinMaxScaler()\n",
    "data_x = min_max_scaler.fit_transform(data_x)\n",
    "data_x = pd.DataFrame(data_x)\n",
    "train_x,test_x,train_y,test_y = train_test_split(\n",
    "    data_x,\n",
    "    data_y,\n",
    "    train_size = 0.5,\n",
    "    shuffle=False)\n",
    "\n"
   ]
  },
  {
   "cell_type": "code",
   "execution_count": 126,
   "metadata": {
    "colab": {
     "base_uri": "https://localhost:8080/"
    },
    "id": "BX8rq41PSYPo",
    "outputId": "3bff136c-5867-410d-d1c0-03605393e466"
   },
   "outputs": [
    {
     "name": "stdout",
     "output_type": "stream",
     "text": [
      "17.23457023433114    1    [1.4985166 1.2077476 1.0820328 1.2069662]\n",
      "16.893373    49.08480752548586    [25.961243  11.401823   5.1060953 11.363987 ]\n",
      "4.745827    377.15421202453587    [ 29.253014  -9.342226 -13.179839  31.364304]\n",
      "2.7616937    17.167827645088444    [ 30.319523  -9.193083 -13.147244  31.372623]\n",
      "2.727681    69.15799146639266    [ 30.50682  -10.328946 -13.897498  29.95057 ]\n",
      "2.6990716    16.658217280627234    [ 31.391575 -10.192677 -13.919714  29.970219]\n",
      "2.6749542    68.63542104136489    [ 31.54875  -11.115576 -14.760454  28.82013 ]\n",
      "2.653289    16.213584033843123    [ 32.308186 -10.978801 -14.807313  28.847437]\n",
      "2.6349638    66.64903271638966    [ 32.4256   -11.713019 -15.637159  27.882858]\n",
      "2.6183553    16.053858260644397    [ 33.090183 -11.576363 -15.697246  27.910913]\n",
      "2.6040282    65.44801300065704    [ 33.174927 -12.165575 -16.485525  27.062725]\n",
      "2.5909138    16.10617004841281    [ 33.768505 -12.028823 -16.553875  27.090153]\n",
      "2.5793507    65.48717098677898    [ 33.829388 -12.509786 -17.303272  26.316647]\n",
      "2.5685925    16.248567565884954    [ 34.369045 -12.372242 -17.376808  26.344233]\n",
      "2.5589607    66.37924219061742    [ 34.41182  -12.771547 -18.09717   25.623062]\n",
      "2.549859    16.399947376092207    [ 34.91033  -12.632421 -18.173143  25.652037]\n",
      "2.5415788    67.37723224321977    [ 34.939507 -12.966875 -18.868044  24.974127]\n",
      "2.5336816    16.608410333553508    [ 35.4049   -12.826891 -18.945232  25.003891]\n",
      "2.5264494    67.46383762069918    [ 35.419388  -13.1082735 -19.608488   24.369026 ]\n",
      "2.5195627    16.843257491664687    [ 35.85616  -12.96894  -19.686178  24.398352]\n",
      "2.513193    67.03227533351277    [ 35.858425 -13.208345 -20.315277  23.803497]\n",
      "2.5071225    17.090383948488068    [ 36.26982  -13.071022 -20.393005  23.831375]\n",
      "2.5014803    66.48781110610086    [ 36.262196 -13.278603 -20.989244  23.271177]\n",
      "2.4960883    17.23671406666065    [ 36.650223 -13.144303 -21.065887  23.2976  ]\n",
      "24\n"
     ]
    }
   ],
   "source": [
    "def lossFunc(w_t, x, y):\n",
    "  return (np.sum( (    (  (  (y - (w_t @ x.T) )**2 ) /4 + 1)**(1/2) - 1) ) / 204).astype(float)\n",
    "\n",
    "def find_least_alpha(alpha, w_t, x, y):\n",
    "  grad_loss = grad(lossFunc, argnums=0, allow_int=True)(w_t, one_train_x, train_y.values)\n",
    "  new_w = w_t - alpha * grad_loss\n",
    "  return float(np.sum(((((y - jnp.dot(new_w, x.T))**2)/4 + 1)**(1/2) - 1) ) / 204)\n",
    "\n",
    "one_test_x = test_x.values\n",
    "one_test_x = np.insert(one_test_x, 0, 1.0, axis=1)\n",
    "one_train_x = train_x.values\n",
    "one_train_x = np.insert(one_train_x, 0, 1.0, axis=1)\n",
    "w = np.array([1,1,1,1], dtype=float)\n",
    "\n",
    "\n",
    "loss_k = []\n",
    "\n",
    "def optimize(x_k):\n",
    "  \n",
    "  w = np.array([1,1,1,1], dtype=float)\n",
    "  x_k.append(w)\n",
    "\n",
    "  alpha = 1\n",
    "  iteration = 0\n",
    "  while 1 == 1:\n",
    "    W_grad = grad(lossFunc, argnums=0, allow_int=True)(w.T, one_train_x, train_y.values)\n",
    "    loss_k.append(lossFunc(w.T, one_train_x, train_y.values))\n",
    "    \n",
    "    w = w - alpha * W_grad\n",
    "    x_k.append(w)\n",
    "    print(loss_k[-1], \"  \", alpha, \"  \", w)\n",
    "    # mini = minimize(find_least_alpha, x0=alpha, method=\"BFGS\", args=(x_k[-1].T, one_train_x, train_y.values))\n",
    "    mini = minimize_scalar(find_least_alpha , args=(x_k[-1].T, one_train_x, train_y.values))\n",
    "    alpha = mini.x\n",
    "    iteration += 1\n",
    "    if (iteration > 1):\n",
    "      if (loss_k[-1] < 2.5):\n",
    "        return iteration\n",
    "x_k = []\n",
    "iteration = optimize(x_k)\n",
    "print(iteration)"
   ]
  },
  {
   "cell_type": "code",
   "execution_count": 127,
   "metadata": {
    "colab": {
     "base_uri": "https://localhost:8080/",
     "height": 346
    },
    "id": "Tj5TTrU7G-Bc",
    "outputId": "797320cc-87d3-45a7-f9f3-b0b50492f613"
   },
   "outputs": [
    {
     "name": "stdout",
     "output_type": "stream",
     "text": [
      "The total iteration:24\n",
      "The final weight vector is[ 36.262196 -13.278603 -20.989244  23.271177]\n",
      "The train loss is 2.4960882663726807\n",
      "The test loss is 2.7308456897735596\n"
     ]
    },
    {
     "data": {
      "image/png": "[encoded data removed]",
      "text/plain": [
       "<Figure size 432x288 with 1 Axes>"
      ]
     },
     "metadata": {
      "needs_background": "light",
      "tags": []
     },
     "output_type": "display_data"
    }
   ],
   "source": [
    "print(f\"The total iteration:{iteration}\")\n",
    "print(f\"The final weight vector is{x_k[-2]}\")\n",
    "print(f\"The train loss is {lossFunc(x_k[-2].T, one_train_x, train_y.values)}\\nThe test loss is \\\n",
    "{lossFunc(x_k[-1].T, one_test_x, test_y.values)}\")\n",
    "import matplotlib.pyplot as plt\n",
    "%matplotlib inline\n",
    "plt.plot(loss_k)\n",
    "plt.xlabel(\"Iteration number\")\n",
    "plt.ylabel(\"Loss\")\n",
    "plt.show()"
   ]
  },
  {
   "cell_type": "code",
   "execution_count": null,
   "metadata": {
    "colab": {
     "base_uri": "https://localhost:8080/"
    },
    "id": "YEBiGzcn70ec",
    "outputId": "0395d6c7-b956-47a5-add3-89fdda4d63a5"
   },
   "outputs": [
    {
     "data": {
      "text/plain": [
       "25"
      ]
     },
     "execution_count": 70,
     "metadata": {
      "tags": []
     },
     "output_type": "execute_result"
    }
   ],
   "source": [
    "len(loss_k)\n",
    "\n",
    "# def lossFunc(w_t, x, y):\n",
    "#   return np.sum((jnp.sqrt(((y - jnp.dot(w_t, x.T))**2)/4 + 1) - 1) ) / 204\n",
    "\n",
    "\n",
    "# def grad_loss(w_t, x, y):\n",
    "#   all_w.append(w_t)\n",
    "#   a_loss = grad(lossFunc, argnums=0, allow_int=True)(w.T, one_train_x, train_y.values)\n",
    "#   return a_loss\n",
    "\n",
    "\n",
    "# def find_least_alpha(alpha, w_t, x, y):\n",
    "#   grad_loss = grad(lossFunc, argnums=0, allow_int=True)(w_t, one_train_x, train_y.values)\n",
    "#   new_w = w_t - alpha * grad_loss\n",
    "#   return np.sum(((((y - jnp.dot(new_w, x.T))**2)/4 + 1)**(1/2) - 1) ) / 204\n",
    "# grad_loss = grad(lossFunc, argnums=0, allow_int=True)(w.T, one_train_x, train_y.values)\n",
    "# mini = minimize_scalar(find_least_alpha, args=(x_k[-1].T, one_train_x, train_y.values))\n",
    "# mini\n"
   ]
  }
 ],
 "metadata": {
  "colab": {
   "collapsed_sections": [],
   "name": "2(f).ipynb",
   "provenance": []
  },
  "kernelspec": {
   "display_name": "Python 3",
   "language": "python",
   "name": "python3"
  },
  "language_info": {
   "codemirror_mode": {
    "name": "ipython",
    "version": 3
   },
   "file_extension": ".py",
   "mimetype": "text/x-python",
   "name": "python",
   "nbconvert_exporter": "python",
   "pygments_lexer": "ipython3",
   "version": "3.8.8"
  }
 },
 "nbformat": 4,
 "nbformat_minor": 1
}
