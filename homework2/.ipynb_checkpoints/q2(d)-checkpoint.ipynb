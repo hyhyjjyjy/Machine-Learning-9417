{
 "cells": [
  {
   "cell_type": "code",
   "execution_count": 1,
   "id": "0b7a30bc",
   "metadata": {},
   "outputs": [],
   "source": [
    "import pandas as pd\n",
    "import numpy as np\n",
    "import matplotlib.pyplot as plt\n",
    "from sklearn import preprocessing\n",
    "%matplotlib inline\n",
    "from sklearn.model_selection import train_test_split\n",
    "\n",
    "\n",
    "data = pd.read_csv('Q2.csv')\n",
    "data = data[~np.isnan(data).any(axis=1)]\n",
    "data_x = data.drop(labels=['transactiondate','latitude','longitude','price'],axis=1)\n",
    "data_y = data['price']\n",
    "\n",
    "min_max_scaler = preprocessing.MinMaxScaler()\n",
    "data_x = min_max_scaler.fit_transform(data_x)\n",
    "data_x = pd.DataFrame(data_x)\n",
    "train_x,test_x,train_y,test_y = train_test_split(\n",
    "    data_x,\n",
    "    data_y,\n",
    "    train_size = 0.5,\n",
    "    shuffle=False)"
   ]
  },
  {
   "cell_type": "code",
   "execution_count": 2,
   "id": "2d63e6c0",
   "metadata": {},
   "outputs": [],
   "source": []
  }
 ],
 "metadata": {
  "kernelspec": {
   "display_name": "Python 3",
   "language": "python",
   "name": "python3"
  },
  "language_info": {
   "codemirror_mode": {
    "name": "ipython",
    "version": 3
   },
   "file_extension": ".py",
   "mimetype": "text/x-python",
   "name": "python",
   "nbconvert_exporter": "python",
   "pygments_lexer": "ipython3",
   "version": "3.8.8"
  }
 },
 "nbformat": 4,
 "nbformat_minor": 5
}
