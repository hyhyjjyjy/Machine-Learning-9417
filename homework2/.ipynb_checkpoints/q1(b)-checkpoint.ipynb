{
 "cells": [
  {
   "cell_type": "code",
   "execution_count": 1,
   "id": "c17e0dc7",
   "metadata": {},
   "outputs": [],
   "source": [
    "import pandas as pd\n",
    "import numpy as np\n",
    "import matplotlib.pyplot as plt\n",
    "import seaborn as sns\n",
    "%matplotlib inline\n",
    "\n",
    "from sklearn.model_selection import train_test_split\n",
    "# load dataset\n",
    "data = pd.read_csv('Q1.csv')\n",
    "data.head()\n",
    "numerics = ['int16', 'int32', 'int64', 'float16', 'float32', 'float64']\n",
    "numerical_vars = list(data.select_dtypes(include=numerics).columns)\n",
    "data = data[numerical_vars]\n",
    "data.shape\n",
    "data_train , data_test = train_test_split(\n",
    "    data,\n",
    "    #data.drop(labels=['Y'], axis=1),\n",
    "    #data['Y'],\n",
    "    train_size=500,\n",
    "    shuffle=False)\n"
   ]
  },
  {
   "cell_type": "code",
   "execution_count": 2,
   "id": "b71ea214",
   "metadata": {},
   "outputs": [],
   "source": [
    "C = np.linspace(0.0001,0.6,100)"
   ]
  },
  {
   "cell_type": "code",
   "execution_count": 3,
   "id": "ed060f81",
   "metadata": {},
   "outputs": [],
   "source": [
    "import sklearn.model_selection as cv\n",
    "#train = cv.KFold(n_splits=5)\n",
    "\n",
    "cross_train = []\n",
    "cross_test = []\n",
    "\n",
    "for i in range(10):\n",
    "    datatmp = data_train\n",
    "    for rows in range(0 + 50*i, 50+50*i):\n",
    "        datatmp = datatmp.drop(rows,axis=0)\n",
    "    cross_test.append(data_train.loc[0 + 50 * i: 49 + 50 * i])\n",
    "    cross_train.append(datatmp)"
   ]
  },
  {
   "cell_type": "code",
   "execution_count": 4,
   "id": "81a9bfb8",
   "metadata": {},
   "outputs": [],
   "source": [
    "from sklearn.linear_model import LogisticRegression\n",
    "from sklearn import metrics\n",
    "scores = []\n",
    "losses = []\n",
    "mean_scores = []\n",
    "best_c = 0\n",
    "\n",
    "for c in C:\n",
    "    score = []\n",
    "    classifier = LogisticRegression(solver='liblinear', C=c, penalty='l1')\n",
    "    loss = []\n",
    "    values = 0\n",
    "    for i in range(10):\n",
    "        train_x = cross_train[i].drop(labels=['Y'], axis=1)\n",
    "        train_y = cross_train[i]['Y']\n",
    "        test_x = cross_test[i].drop(labels=['Y'], axis=1)\n",
    "        test_y = cross_test[i]['Y']\n",
    "        classifier.fit(train_x, train_y)\n",
    "        \n",
    "        pre_y = classifier.predict(test_x)\n",
    "        values += pre_y\n",
    "        pro_y = classifier.predict_proba(test_x)\n",
    "        #print(pre_y)\n",
    "        loss.append(metrics.log_loss(test_y, pro_y))\n",
    "    losses.append(loss)\n",
    "    #score.append(classifier.score(test_x, test_y))\n",
    "    mean_score = np.mean(loss)\n",
    "    mean_scores.append(mean_score)\n"
   ]
  },
  {
   "cell_type": "code",
   "execution_count": 5,
   "id": "65f997ff",
   "metadata": {
    "scrolled": true
   },
   "outputs": [
    {
     "data": {
      "image/png": "[encoded data removed]",
      "text/plain": [
       "<Figure size 432x288 with 1 Axes>"
      ]
     },
     "metadata": {
      "needs_background": "light"
     },
     "output_type": "display_data"
    }
   ],
   "source": [
    "import matplotlib.pyplot as plt\n",
    "#scores = pd.DataFrame(scores)\n",
    "#print(scores.values)\n",
    "#print(clabels)\n",
    "#print(losses)\n",
    "mydata = {}\n",
    "for i in range(0,100):\n",
    "    mydata['C' + str(i)] = losses[i]\n",
    "    #plt.boxplot(scores.values[i], labels= string)\n",
    "\n",
    "df = pd.DataFrame(mydata)\n",
    "df.plot.box(title=\"Different c choice\")\n",
    "plt.xlabel(\"Parameter number\")\n",
    "plt.ylabel(\"CV Performance\")\n",
    "plt.show()"
   ]
  },
  {
   "cell_type": "code",
   "execution_count": 8,
   "id": "cdb7b5b4",
   "metadata": {},
   "outputs": [
    {
     "name": "stdout",
     "output_type": "stream",
     "text": [
      "my choice of C: 0.18794747474747472\n",
      "Test score: 7.519999999999999  Train_score:7.400000000000001\n"
     ]
    }
   ],
   "source": [
    "#print(mean_scores)\n",
    "cmax = mean_scores.index(min(mean_scores))\n",
    "print(\"my choice of C:\", C[cmax])\n",
    "score_test = 0\n",
    "score_train = 0\n",
    "data_test_x = data_test.drop(labels=['Y'], axis=1)\n",
    "data_test_y = data_test['Y']\n",
    "for i in range(10):\n",
    "    classifier = LogisticRegression(solver='liblinear', C=C[cmax], penalty='l1')\n",
    "    \n",
    "    train_x = cross_train[i].drop(labels=['Y'], axis=1)\n",
    "    train_y = cross_train[i]['Y']\n",
    "    test_x = cross_test[i].drop(labels=['Y'], axis=1)\n",
    "    test_y = cross_test[i]['Y']\n",
    "    classifier.fit(train_x, train_y)\n",
    "    score_test += classifier.score(test_x, test_y)\n",
    "    score_train += classifier.score(data_test_x, data_test_y)\n",
    "\n",
    "print(f\"Test score: {score_test}  Train_score:{score_train}\")"
   ]
  },
  {
   "cell_type": "code",
   "execution_count": null,
   "id": "23c6e8fa",
   "metadata": {},
   "outputs": [],
   "source": []
  }
 ],
 "metadata": {
  "kernelspec": {
   "display_name": "Python 3",
   "language": "python",
   "name": "python3"
  },
  "language_info": {
   "codemirror_mode": {
    "name": "ipython",
    "version": 3
   },
   "file_extension": ".py",
   "mimetype": "text/x-python",
   "name": "python",
   "nbconvert_exporter": "python",
   "pygments_lexer": "ipython3",
   "version": "3.8.8"
  }
 },
 "nbformat": 4,
 "nbformat_minor": 5
}
