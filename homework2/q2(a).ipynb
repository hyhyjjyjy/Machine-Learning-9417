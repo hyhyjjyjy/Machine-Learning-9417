{
 "cells": [
  {
   "cell_type": "code",
   "execution_count": 63,
   "id": "1b4babd0",
   "metadata": {},
   "outputs": [
    {
     "name": "stdout",
     "output_type": "stream",
     "text": [
      "0.0009786977622281967\n",
      "k=0,  x(0)=[1.  0.5 0.  1.5] \n",
      "k=1,  x(1)=[ 1.2   0.25 -0.25  1.45] \n",
      "k=2,  x(2)=[ 1.345  0.125 -0.36   1.44 ] \n",
      "k=3,  x(3)=[ 1.4565  0.0625 -0.4075  1.459 ] \n",
      "k=4,  x(4)=[ 1.5499   0.03125 -0.4242   1.49205] \n",
      "k=217,  x(217)=[ 3.99699850e+00 -2.59623079e-16 -5.61531549e-04  2.99812156e+00] \n",
      "k=218,  x(218)=[ 3.99709142e+00 -2.15214158e-16 -5.44147417e-04  2.99817971e+00] \n",
      "k=219,  x(219)=[ 3.99718146e+00 -2.59623079e-16 -5.27301471e-04  2.99823607e+00] \n",
      "k=220,  x(220)=[ 3.99726872e+00 -2.15214158e-16 -5.10977048e-04  2.99829068e+00] \n",
      "k=221,  x(221)=[ 3.99735328e+00 -3.04032000e-16 -4.95158004e-04  2.99834359e+00] \n"
     ]
    }
   ],
   "source": [
    "import numpy as np\n",
    "A = np.array([[1,0,1,-1],[-1,1,0,2],[0,-1,-2,1]])\n",
    "b = np.array([[1],[2],[3]])\n",
    "x = np.array([[1],[1],[1],[1]])\n",
    "alpha = 0.1\n",
    "\n",
    "k  = 0\n",
    "all_xs = []\n",
    "while 1 == 1:\n",
    "    diff_x = np.dot(A.T,(np.dot(A, x) - b))\n",
    "    x = x - alpha * diff_x\n",
    "    x_norm = np.linalg.norm(diff_x, ord=2, axis=None)\n",
    "    if (x_norm < 0.001):\n",
    "        break\n",
    "    all_xs.append(x)\n",
    "    k += 1\n",
    "\n",
    "print(x_norm)\n",
    "for i in range(5):\n",
    "    print(f\"k={i},  x({i})={all_xs[i].reshape(4)} \")\n",
    "for i in range(k - 5, k):\n",
    "    print(f\"k={i},  x({i})={all_xs[i].reshape(4)} \")"
   ]
  },
  {
   "cell_type": "code",
   "execution_count": null,
   "id": "da6649f1",
   "metadata": {},
   "outputs": [],
   "source": []
  }
 ],
 "metadata": {
  "kernelspec": {
   "display_name": "Python 3",
   "language": "python",
   "name": "python3"
  },
  "language_info": {
   "codemirror_mode": {
    "name": "ipython",
    "version": 3
   },
   "file_extension": ".py",
   "mimetype": "text/x-python",
   "name": "python",
   "nbconvert_exporter": "python",
   "pygments_lexer": "ipython3",
   "version": "3.8.8"
  }
 },
 "nbformat": 4,
 "nbformat_minor": 5
}
