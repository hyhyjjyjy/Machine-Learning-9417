{
  "nbformat": 4,
  "nbformat_minor": 5,
  "metadata": {
    "kernelspec": {
      "display_name": "Python 3",
      "language": "python",
      "name": "python3"
    },
    "language_info": {
      "codemirror_mode": {
        "name": "ipython",
        "version": 3
      },
      "file_extension": ".py",
      "mimetype": "text/x-python",
      "name": "python",
      "nbconvert_exporter": "python",
      "pygments_lexer": "ipython3",
      "version": "3.8.8"
    },
    "colab": {
      "name": "q2(e).ipynb",
      "provenance": [],
      "collapsed_sections": []
    }
  },
  "cells": [
    {
      "cell_type": "code",
      "metadata": {
        "id": "4e455ed5"
      },
      "source": [
        "import jax.numpy as jnp\n",
        "from jax import grad\n",
        "import pandas as pd\n",
        "import numpy as np\n",
        "import matplotlib.pyplot as plt\n",
        "from sklearn import preprocessing\n",
        "%matplotlib inline\n",
        "from sklearn.model_selection import train_test_split\n",
        "\n",
        "\n",
        "data = pd.read_csv('Q2.csv')\n",
        "data = data[~np.isnan(data).any(axis=1)]\n",
        "data_x = data.drop(labels=['transactiondate','latitude','longitude','price'],axis=1)\n",
        "data_y = data['price']\n",
        "\n",
        "min_max_scaler = preprocessing.MinMaxScaler()\n",
        "data_x = min_max_scaler.fit_transform(data_x)\n",
        "data_x = pd.DataFrame(data_x)\n",
        "train_x,test_x,train_y,test_y = train_test_split(\n",
        "    data_x,\n",
        "    data_y,\n",
        "    train_size = 0.5,\n",
        "    shuffle=False)\n"
      ],
      "id": "4e455ed5",
      "execution_count": 10,
      "outputs": []
    },
    {
      "cell_type": "code",
      "metadata": {
        "colab": {
          "base_uri": "https://localhost:8080/"
        },
        "id": "QMH-Z4mgWcTP",
        "outputId": "c983a4c7-e0e3-4dde-d9ad-450c82ccd9bb"
      },
      "source": [
        "w = np.array([1,1,1,1], dtype=float)\n",
        "def lossFunc(w_t, x, y):\n",
        "  return np.sum( (jnp.sqrt(((y - jnp.dot(w_t, x.T))**2)/4 + 1) - 1) ) / 204\n",
        "\n",
        "\n",
        "length = train_x.shape[0]\n",
        "w = np.array([1,1,1,1], dtype=float)\n",
        "iteration = 0\n",
        "\n",
        "one_test_x = test_x.values\n",
        "one_test_x = np.insert(one_test_x, 0, 1.0, axis=1)\n",
        "one_train_x = train_x.values\n",
        "one_train_x = np.insert(one_train_x, 0, 1.0, axis=1)\n",
        "\n",
        "x_k = []\n",
        "x_k.append(w)\n",
        "loss_k = []\n",
        "while 1 == 1:\n",
        "  W_grad = grad(lossFunc, argnums=0, allow_int=True)(w.T, one_train_x, train_y.values)\n",
        "  loss_k.append(lossFunc(w.T, one_train_x, train_y.values))\n",
        "  \n",
        "  w = w - W_grad\n",
        "  x_k.append(w)\n",
        "  iteration += 1\n",
        "  if (iteration > 1):\n",
        "    if (np.abs(loss_k[-1] - loss_k[-2]) < 0.0001):\n",
        "      break\n",
        "print(iteration)\n"
      ],
      "id": "QMH-Z4mgWcTP",
      "execution_count": 21,
      "outputs": [
        {
          "output_type": "stream",
          "text": [
            "1307\n"
          ],
          "name": "stdout"
        }
      ]
    },
    {
      "cell_type": "code",
      "metadata": {
        "colab": {
          "base_uri": "https://localhost:8080/"
        },
        "id": "ORNA9OUGPx30",
        "outputId": "abca98c3-890d-4edf-f5fb-1145eb966400"
      },
      "source": [
        "loss_k[1306]"
      ],
      "id": "ORNA9OUGPx30",
      "execution_count": 22,
      "outputs": [
        {
          "output_type": "execute_result",
          "data": {
            "text/plain": [
              "DeviceArray(2.4737415, dtype=float32)"
            ]
          },
          "metadata": {
            "tags": []
          },
          "execution_count": 22
        }
      ]
    },
    {
      "cell_type": "code",
      "metadata": {
        "colab": {
          "base_uri": "https://localhost:8080/",
          "height": 346
        },
        "id": "2NuvVtkMu6Dx",
        "outputId": "dfd0dc23-fd81-47a9-d61f-bfbb995ffe76"
      },
      "source": [
        "print(f\"The total iteration:{iteration}\")\n",
        "print(f\"The final weight vector is{x_k[-1]}\")\n",
        "print(f\"The train loss is {lossFunc(x_k[-1].T, one_train_x, train_y.values)}\\nThe test loss is \\\n",
        "{lossFunc(x_k[-1].T, one_test_x, test_y.values)}\")\n",
        "import matplotlib.pyplot as plt\n",
        "%matplotlib inline\n",
        "plt.plot(loss_k)\n",
        "plt.xlabel(\"Iteration number\")\n",
        "plt.ylabel(\"Loss\")\n",
        "plt.show()"
      ],
      "id": "2NuvVtkMu6Dx",
      "execution_count": 13,
      "outputs": [
        {
          "output_type": "stream",
          "text": [
            "The total iteration:1307\n",
            "The final weight vector is[ 37.056965 -12.684172 -22.388344  22.195488]\n",
            "The train loss is 2.4736413955688477\n",
            "The test loss is 2.6956610679626465\n"
          ],
          "name": "stdout"
        },
        {
          "output_type": "display_data",
          "data": {
            "image/png": "[encoded data removed]",
            "text/plain": [
              "<Figure size 432x288 with 1 Axes>"
            ]
          },
          "metadata": {
            "tags": [],
            "needs_background": "light"
          }
        }
      ]
    }
  ]
}