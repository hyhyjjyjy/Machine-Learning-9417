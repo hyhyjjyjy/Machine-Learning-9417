{
 "cells": [
  {
   "cell_type": "code",
   "execution_count": 3,
   "id": "9e434e44",
   "metadata": {},
   "outputs": [
    {
     "name": "stdout",
     "output_type": "stream",
     "text": [
      "X1 38.0\n",
      "X2 38.00000000000001\n",
      "X3 38.00000000000002\n",
      "X4 37.99999999999999\n",
      "X5 38.0\n",
      "X6 38.0\n",
      "X7 38.00000000000001\n",
      "X8 37.999999999999986\n"
     ]
    }
   ],
   "source": [
    "import pandas as pd\n",
    "import numpy as np\n",
    "from sklearn.metrics import mean_squared_error, r2_score\n",
    "\n",
    "# load the diabetes dataset\n",
    "df=pd.read_csv('data.csv')\n",
    "target_name=\"Y\"\n",
    "target=df[target_name]\n",
    "\n",
    "stand = np.std(df)\n",
    "newdf = (df - df.mean())/np.std(df)\n",
    "for num in range(1, 9):\n",
    "    sum = 0\n",
    "    index = \"X\" + str(num)\n",
    "    for i in newdf[index]:\n",
    "        sum += i**2\n",
    "    print(index, sum)"
   ]
  },
  {
   "cell_type": "code",
   "execution_count": null,
   "id": "09a74f88",
   "metadata": {},
   "outputs": [],
   "source": []
  }
 ],
 "metadata": {
  "kernelspec": {
   "display_name": "Python 3",
   "language": "python",
   "name": "python3"
  },
  "language_info": {
   "codemirror_mode": {
    "name": "ipython",
    "version": 3
   },
   "file_extension": ".py",
   "mimetype": "text/x-python",
   "name": "python",
   "nbconvert_exporter": "python",
   "pygments_lexer": "ipython3",
   "version": "3.7.9"
  }
 },
 "nbformat": 4,
 "nbformat_minor": 5
}
