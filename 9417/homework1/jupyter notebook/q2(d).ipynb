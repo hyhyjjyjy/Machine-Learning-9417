{
 "cells": [
  {
   "cell_type": "code",
   "execution_count": 21,
   "id": "76617f1c",
   "metadata": {},
   "outputs": [
    {
     "name": "stdout",
     "output_type": "stream",
     "text": [
      "the mimimal ASE is 1442.6982227952915 with lambd =22.3\n"
     ]
    },
    {
     "data": {
      "image/png": "[encoded data removed]",
      "text/plain": [
       "<Figure size 432x288 with 1 Axes>"
      ]
     },
     "metadata": {
      "needs_background": "light"
     },
     "output_type": "display_data"
    },
    {
     "name": "stdout",
     "output_type": "stream",
     "text": [
      "the OLS is 1975.4147393421724\n"
     ]
    }
   ],
   "source": [
    "%matplotlib inline\n",
    "import matplotlib.pyplot as plt\n",
    "import seaborn as sns\n",
    "import pandas as pd\n",
    "import numpy as np\n",
    "from sklearn import datasets,linear_model\n",
    "from sklearn.metrics import mean_squared_error, r2_score\n",
    "from sklearn.linear_model import Ridge\n",
    "import math\n",
    "\n",
    "# load the diabetes dataset\n",
    "df=pd.read_csv('data.csv')\n",
    "target_name=\"Y\"\n",
    "target=df[target_name]\n",
    "\n",
    "\n",
    "\n",
    "stand = np.std(df)\n",
    "newdf = (df - df.mean())/np.std(df)\n",
    "\n",
    "bx = plt.gca()\n",
    "plt.title('Result Analysis')\n",
    "plt.xlabel('lambda')\n",
    "plt.ylabel('ASE')\n",
    "\n",
    "X=newdf[['X1', 'X2', 'X3', 'X4', 'X5', 'X6', 'X7', 'X8']]\n",
    "X=np.array(X)\n",
    "Y=df['Y']\n",
    "Y=np.array(Y)\n",
    "ASEs = []\n",
    "lmd=np.arange(0,50.1, 0.1)\n",
    "\n",
    "for lams in lmd:\n",
    "    sum = 0\n",
    "    Y_pre = []\n",
    "    for i in range(38):\n",
    "        X_test = X[i].reshape(1,-1)\n",
    "        X1 = np.delete(X, i,axis=0)\n",
    "        Y1 = np.delete(Y, i,axis=0)\n",
    "\n",
    "        ridge2 = linear_model.Ridge(alpha=lams)\n",
    "        ridge2.fit(X1, Y1)\n",
    "        y_pre = ridge2.predict(X_test)\n",
    "        Y_pre.append(y_pre[0])\n",
    "        sum += math.pow(y_pre[0] - Y[i], 2)\n",
    "    ASE = sum / 38\n",
    "    ASEs.append(ASE)\n",
    "print(f\"the mimimal ASE is {min(ASEs)} with lambd ={ASEs.index(min(ASEs)) * 0.1 }\")\n",
    "bx.plot(lmd, ASEs, color='green')\n",
    "plt.show()\n",
    "\n",
    "\n",
    "sum = 0\n",
    "for i in range(38):\n",
    "    X_test = X[i].reshape(1,-1)\n",
    "    X1 = np.delete(X, i,axis=0)\n",
    "    Y1 = np.delete(Y, i,axis=0)\n",
    "\n",
    "    ridge2 = linear_model.LinearRegression()\n",
    "    ridge2.fit(X1, Y1)\n",
    "    y_pre = ridge2.predict(X_test)\n",
    "    sum += math.pow(y_pre[0] - Y[i], 2)\n",
    "OLS = sum / 38\n",
    "\n",
    "print(f\"the OLS is {OLS}\")"
   ]
  },
  {
   "cell_type": "code",
   "execution_count": null,
   "id": "f8c017d3",
   "metadata": {},
   "outputs": [],
   "source": []
  }
 ],
 "metadata": {
  "kernelspec": {
   "display_name": "Python 3",
   "language": "python",
   "name": "python3"
  },
  "language_info": {
   "codemirror_mode": {
    "name": "ipython",
    "version": 3
   },
   "file_extension": ".py",
   "mimetype": "text/x-python",
   "name": "python",
   "nbconvert_exporter": "python",
   "pygments_lexer": "ipython3",
   "version": "3.7.9"
  }
 },
 "nbformat": 4,
 "nbformat_minor": 5
}
